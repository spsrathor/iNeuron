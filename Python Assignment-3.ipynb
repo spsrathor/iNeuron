{
 "cells": [
  {
   "cell_type": "markdown",
   "metadata": {},
   "source": [
    "# Problem-1.1\n",
    "### myreduce function"
   ]
  },
  {
   "cell_type": "code",
   "execution_count": 8,
   "metadata": {},
   "outputs": [
    {
     "name": "stdout",
     "output_type": "stream",
     "text": [
      "Using myreduce() function 21\n",
      "Using reduce() function 21\n"
     ]
    }
   ],
   "source": [
    "from functools import reduce\n",
    "\n",
    "def myreduce(func, iterable):\n",
    "    length = len(iterable)\n",
    "    temp = iterable[0]\n",
    "    for i in range(length-1):\n",
    "        temp = func(temp,iterable[i+1])\n",
    "    return temp\n",
    "\n",
    "lst=[1,2,3,4,5,6]\n",
    "\n",
    "sum1 = myreduce(lambda a,b: a + b ,lst)\n",
    "print('Using myreduce() function',sum1)\n",
    "sum2 = reduce(lambda a,b: a + b ,lst)\n",
    "print('Using reduce() function',sum2)"
   ]
  },
  {
   "cell_type": "markdown",
   "metadata": {},
   "source": [
    "# Problem-1.2\n",
    "### myfilter function"
   ]
  },
  {
   "cell_type": "code",
   "execution_count": 9,
   "metadata": {},
   "outputs": [
    {
     "name": "stdout",
     "output_type": "stream",
     "text": [
      "Using myfilter() function [2, 4, 6]\n",
      "Using filter() function [2, 4, 6]\n"
     ]
    }
   ],
   "source": [
    "def myfilter(func, iterable):\n",
    "    lst=[]\n",
    "    for x in iterable:\n",
    "        if func(x):\n",
    "            lst.append(x)\n",
    "    return lst\n",
    "\n",
    "lst=[1,2,3,4,5,6]\n",
    "\n",
    "print('Using myfilter() function',myfilter(lambda x: x%2==0,lst))\n",
    "\n",
    "print('Using filter() function',list(filter(lambda x: x%2==0,lst)))"
   ]
  },
  {
   "cell_type": "markdown",
   "metadata": {},
   "source": [
    "# Problem-2\n",
    "## List Comprehensions"
   ]
  },
  {
   "cell_type": "code",
   "execution_count": 10,
   "metadata": {},
   "outputs": [
    {
     "data": {
      "text/plain": [
       "['x', 'xx', 'xxx', 'xxxx', 'y', 'yy', 'yyy', 'yyyy', 'z', 'zz', 'zzz', 'zzzz']"
      ]
     },
     "execution_count": 10,
     "metadata": {},
     "output_type": "execute_result"
    }
   ],
   "source": [
    "lst1=[a*i for a in ['x','y','z'] for i in range(1,5)]\n",
    "lst1"
   ]
  },
  {
   "cell_type": "code",
   "execution_count": 11,
   "metadata": {},
   "outputs": [
    {
     "data": {
      "text/plain": [
       "['x', 'y', 'z', 'xx', 'yy', 'zz', 'xxx', 'yyy', 'zzz', 'xxxx', 'yyyy', 'zzzz']"
      ]
     },
     "execution_count": 11,
     "metadata": {},
     "output_type": "execute_result"
    }
   ],
   "source": [
    "lst2=[a*i for i in range(1,5) for a in ['x','y','z']]\n",
    "lst2"
   ]
  },
  {
   "cell_type": "code",
   "execution_count": 12,
   "metadata": {},
   "outputs": [
    {
     "data": {
      "text/plain": [
       "[[2], [3], [4], [3], [4], [5], [4], [5], [6]]"
      ]
     },
     "execution_count": 12,
     "metadata": {},
     "output_type": "execute_result"
    }
   ],
   "source": [
    "lst3=[[a+b] for a in range(2,5) for b in range(0,3)]\n",
    "lst3"
   ]
  },
  {
   "cell_type": "code",
   "execution_count": 13,
   "metadata": {},
   "outputs": [
    {
     "data": {
      "text/plain": [
       "[[2, 3, 4, 5], [3, 4, 5, 6], [4, 5, 6, 7], [5, 6, 7, 8]]"
      ]
     },
     "execution_count": 13,
     "metadata": {},
     "output_type": "execute_result"
    }
   ],
   "source": [
    "lst4=[[a,a+1,a+2,a+3] for a in range(2,6)]\n",
    "lst4"
   ]
  },
  {
   "cell_type": "code",
   "execution_count": 14,
   "metadata": {},
   "outputs": [
    {
     "data": {
      "text/plain": [
       "[(1, 1), (1, 2), (1, 3), (2, 1), (2, 2), (2, 3), (3, 1), (3, 2), (3, 3)]"
      ]
     },
     "execution_count": 14,
     "metadata": {},
     "output_type": "execute_result"
    }
   ],
   "source": [
    "lst5=[(x,y) for x in range(1,4) for y in range(1,4)]\n",
    "lst5"
   ]
  },
  {
   "cell_type": "code",
   "execution_count": null,
   "metadata": {},
   "outputs": [],
   "source": []
  }
 ],
 "metadata": {
  "kernelspec": {
   "display_name": "Python 3",
   "language": "python",
   "name": "python3"
  },
  "language_info": {
   "codemirror_mode": {
    "name": "ipython",
    "version": 3
   },
   "file_extension": ".py",
   "mimetype": "text/x-python",
   "name": "python",
   "nbconvert_exporter": "python",
   "pygments_lexer": "ipython3",
   "version": "3.7.4"
  }
 },
 "nbformat": 4,
 "nbformat_minor": 2
}
