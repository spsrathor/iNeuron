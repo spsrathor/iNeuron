{
 "cells": [
  {
   "cell_type": "code",
   "execution_count": 1,
   "metadata": {},
   "outputs": [],
   "source": [
    "import numpy as np"
   ]
  },
  {
   "cell_type": "markdown",
   "metadata": {},
   "source": [
    "# Problem-1"
   ]
  },
  {
   "cell_type": "code",
   "execution_count": 2,
   "metadata": {},
   "outputs": [],
   "source": [
    "def sep_matrix(arr,cols):\n",
    "    for x in arr:\n",
    "        print(x,'-->>',end='')\n",
    "        for i in range(0,cols):\n",
    "            print(x**i,end=' ')\n",
    "        print()"
   ]
  },
  {
   "cell_type": "code",
   "execution_count": 3,
   "metadata": {},
   "outputs": [
    {
     "name": "stdout",
     "output_type": "stream",
     "text": [
      "1 -->>1 1 1 1 \n",
      "2 -->>1 2 4 8 \n",
      "3 -->>1 3 9 27 \n",
      "4 -->>1 4 16 64 \n",
      "5 -->>1 5 25 125 \n"
     ]
    }
   ],
   "source": [
    "sep_matrix(np.array([1,2,3,4,5]),4)"
   ]
  },
  {
   "cell_type": "code",
   "execution_count": 4,
   "metadata": {},
   "outputs": [
    {
     "name": "stdout",
     "output_type": "stream",
     "text": [
      "1 -->>1 1 1 1 1 1 1 1 1 \n",
      "2 -->>1 2 4 8 16 32 64 128 256 \n",
      "3 -->>1 3 9 27 81 243 729 2187 6561 \n",
      "4 -->>1 4 16 64 256 1024 4096 16384 65536 \n",
      "5 -->>1 5 25 125 625 3125 15625 78125 390625 \n"
     ]
    }
   ],
   "source": [
    "sep_matrix(np.array([1,2,3,4,5]),9)"
   ]
  },
  {
   "cell_type": "markdown",
   "metadata": {},
   "source": [
    "# Problem-2"
   ]
  },
  {
   "cell_type": "code",
   "execution_count": 8,
   "metadata": {},
   "outputs": [],
   "source": [
    "def sep_avg(arr,k):\n",
    "    for i in range(len(arr)-k+1):\n",
    "        s1=0\n",
    "        for j in range(k):\n",
    "            s1+=arr[i+j]\n",
    "        print(s1/k)"
   ]
  },
  {
   "cell_type": "code",
   "execution_count": 9,
   "metadata": {},
   "outputs": [
    {
     "name": "stdout",
     "output_type": "stream",
     "text": [
      "5.0\n",
      "4.666666666666667\n",
      "5.666666666666667\n",
      "6.666666666666667\n",
      "9.666666666666666\n",
      "28.666666666666668\n",
      "49.333333333333336\n",
      "72.66666666666667\n",
      "84.0\n",
      "93.33333333333333\n",
      "116.33333333333333\n"
     ]
    }
   ],
   "source": [
    "sep_avg(np.array([3, 5, 7, 2, 8, 10, 11, 65, 72, 81, 99, 100, 150]),3)"
   ]
  },
  {
   "cell_type": "code",
   "execution_count": null,
   "metadata": {},
   "outputs": [],
   "source": []
  }
 ],
 "metadata": {
  "kernelspec": {
   "display_name": "Python 3",
   "language": "python",
   "name": "python3"
  },
  "language_info": {
   "codemirror_mode": {
    "name": "ipython",
    "version": 3
   },
   "file_extension": ".py",
   "mimetype": "text/x-python",
   "name": "python",
   "nbconvert_exporter": "python",
   "pygments_lexer": "ipython3",
   "version": "3.7.4"
  }
 },
 "nbformat": 4,
 "nbformat_minor": 2
}
